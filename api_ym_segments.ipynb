{
 "cells": [
  {
   "cell_type": "markdown",
   "metadata": {},
   "source": [
    "# Я-Метрика. Создание сегмента с ClientId"
   ]
  },
  {
   "cell_type": "code",
   "execution_count": 1,
   "metadata": {},
   "outputs": [],
   "source": [
    "import pandas as pd\n",
    "import datetime\n",
    "# import os\n",
    "import requests\n",
    "import json\n",
    "\n",
    "%matplotlib inline\n",
    "import matplotlib.pyplot as plt\n",
    "import seaborn as snsу\n",
    "\n",
    "from tapi_yandex_metrika import YandexMetrikaLogsapi\n",
    "\n",
    "# import sys\n",
    "\n",
    "# Вывод всех операций в Jupyter\n",
    "from IPython.core.interactiveshell import InteractiveShell\n",
    "InteractiveShell.ast_node_interactivity = \"all\""
   ]
  },
  {
   "cell_type": "code",
   "execution_count": 2,
   "metadata": {},
   "outputs": [],
   "source": [
    "# Счетчик и Токен от Яндекс_метрики\n",
    "counterId = 11111111111\n",
    "token_YM = '*****************************************'"
   ]
  },
  {
   "cell_type": "code",
   "execution_count": 3,
   "metadata": {},
   "outputs": [],
   "source": [
    "headers = {\n",
    "    \"Host\": \"api-metrika.yandex.net\",\n",
    "    \"Authorization\": \"OAuth \" + token_YM,\n",
    "    \"Content-Type\": \"application/x-yametrika+json\",\n",
    "    \"Content-Length\": \"123\"\n",
    "}"
   ]
  },
  {
   "cell_type": "markdown",
   "metadata": {},
   "source": [
    "# Вывести список всех сегментов"
   ]
  },
  {
   "cell_type": "code",
   "execution_count": 81,
   "metadata": {},
   "outputs": [
    {
     "data": {
      "text/plain": [
       "<Response [200]>"
      ]
     },
     "execution_count": 81,
     "metadata": {},
     "output_type": "execute_result"
    },
    {
     "data": {
      "text/plain": [
       "{'segments': [{'segment_id': 1006408060,\n",
       "   'counter_id': 65071099,\n",
       "   'name': 'test___segment_Moskow_01',\n",
       "   'expression': \"ym:s:regionCityName=='Москва'\",\n",
       "   'is_retargeting': 0,\n",
       "   'status': 'active',\n",
       "   'segment_source': 'api'},\n",
       "  {'segment_id': 1006408065,\n",
       "   'counter_id': 65071099,\n",
       "   'name': 'test___segment_100_clientId_02',\n",
       "   'expression': 'ym:s:clientID=.(1635183259603994884,1635670848276114856,1636062370638530867,163676853957067267,1638961661982897343,1639383140478454322,16411185171016557127,1641375793879766591,1641383544291001492,1642001033657107255,164227067976281529,16424018641032314086,1642404528289704290,1643226839516253466,1643400424449465062,164420916790781202,1644928245945155011,16455837591047876072,164580251334529016,1646024402621012978,1646500946173387263,1646660462802604385,1647100180560696153,1647190015769537901,16472084331054026875,1647546426133562927,1647677037522505173,1647687945796367095,1647805568952256920,164807322975691257,1648114936170886667,1648135077457037442,1648138953517040253,1648209174615164115,1648221820319329413,1648232446654511881,1648295848145159721,16483566311041498106,1648461624258282963,1648617178804762302,1648630116298002036,16486819648618239,1648776658323456777,1648970908183712648,1648988450873033582,1649076939296858580,1649128623951938151,1649145988289711060,164917562029565144,1649190126473272939,16492533361055663951,1649254667511613741,164930724874084997,1649384582309691457,1649409637573923399,16494262819695579,16495770341012080457,1649586232810524026,1649587930476866807,1649698087956592933,1649711265754228607,1649823642965270337,1649826978575078835,1649853217780663687,16498570551021620308,16498587991056457505,1649866250395018172,1649871037323575377,1649915918295909656,1649925106834317838,1649941776484321800,1650066575164086491,1650092240749383523,1650109990509982267,1650111614916772793,16501466961059026664,1650170189466479423,1650262622150216350,1650274798284875948,16502955099957014,1650462305225859183,165047444122425994,1650499268342527590,1650567295948608139,1650688281595579325,1650740558485785042,165077642421939717,1650792381296190480,1650804274804862694,1650975903987466786,1650993051528412988,1650997133490654115,1651037979366148682,1651057957349275385,1651131865315502982,1651147734205013954,1651172690525287168,1651205731265717245,1651214410881574832,1651229938128686228)',\n",
       "   'is_retargeting': 0,\n",
       "   'status': 'active',\n",
       "   'segment_source': 'api'}]}"
      ]
     },
     "execution_count": 81,
     "metadata": {},
     "output_type": "execute_result"
    }
   ],
   "source": [
    "# https://yandex.ru/dev/metrika/doc/api2/management/segments/getsegmentsforcounter.html\n",
    "\n",
    "URL = f\"https://api-metrika.yandex.net/management/v1/counter/{counterId}/apisegment/segments\"\n",
    "\n",
    "req = requests.get(URL, headers=headers)\n",
    "req\n",
    "req.json()"
   ]
  },
  {
   "cell_type": "code",
   "execution_count": null,
   "metadata": {},
   "outputs": [],
   "source": []
  },
  {
   "cell_type": "markdown",
   "metadata": {},
   "source": [
    "# Удалить сегмент"
   ]
  },
  {
   "cell_type": "code",
   "execution_count": 75,
   "metadata": {},
   "outputs": [
    {
     "data": {
      "text/plain": [
       "<Response [404]>"
      ]
     },
     "execution_count": 75,
     "metadata": {},
     "output_type": "execute_result"
    },
    {
     "data": {
      "text/plain": [
       "{'errors': [{'error_type': 'not_found',\n",
       "   'message': 'Object with id = 1006407935 not found'}],\n",
       " 'code': 404,\n",
       " 'message': 'Object with id = 1006407935 not found'}"
      ]
     },
     "execution_count": 75,
     "metadata": {},
     "output_type": "execute_result"
    }
   ],
   "source": [
    "# https://yandex.ru/dev/metrika/doc/api2/management/segments/deletesegment.html\n",
    "\n",
    "segmentId = 1006407935\n",
    "\n",
    "URL = f\"https://api-metrika.yandex.net/management/v1/counter/{counterId}/apisegment/segment/{segmentId}\"\n",
    "\n",
    "req = requests.delete(URL, headers=headers)\n",
    "req\n",
    "req.json()"
   ]
  },
  {
   "cell_type": "code",
   "execution_count": null,
   "metadata": {},
   "outputs": [],
   "source": []
  },
  {
   "cell_type": "markdown",
   "metadata": {},
   "source": [
    "# Создать сегмент (стандартный способ)"
   ]
  },
  {
   "cell_type": "code",
   "execution_count": 74,
   "metadata": {},
   "outputs": [
    {
     "data": {
      "text/plain": [
       "<Response [200]>"
      ]
     },
     "execution_count": 74,
     "metadata": {},
     "output_type": "execute_result"
    },
    {
     "data": {
      "text/plain": [
       "'{\"segment\":{\"segment_id\":1006408060,\"counter_id\":65071099,\"name\":\"test___segment_Moskow_01\",\"expression\":\"ym:s:regionCityName==\\'Москва\\'\",\"is_retargeting\":0,\"status\":\"active\",\"segment_source\":\"api\"}}'"
      ]
     },
     "execution_count": 74,
     "metadata": {},
     "output_type": "execute_result"
    }
   ],
   "source": [
    "# https://yandex.ru/dev/metrika/doc/api2/management/segments/createsegment.html\n",
    "# https://yandex.ru/dev/metrika/doc/api2/api_v1/segmentation.html\n",
    "\n",
    "URL = f\"https://api-metrika.yandex.net/management/v1/counter/{counterId}/apisegment/segments\"\n",
    "\n",
    "body = {}\n",
    "body['segment'] = {}\n",
    "body['segment']['name'] = \"test___segment_Moskow_01\"\n",
    "body['segment']['expression'] = \"ym:s:regionCityName=='Москва'\"\n",
    "body['segment']['segment_source'] = \"api\"\n",
    "\n",
    "# конвертируем словарь в JSON-формат и перекодируем в UTF-8\n",
    "body = json.dumps(body, ensure_ascii=False).encode('utf8')\n",
    "\n",
    "req = requests.post(URL, body, headers=headers)\n",
    "req\n",
    "req.text"
   ]
  },
  {
   "cell_type": "code",
   "execution_count": null,
   "metadata": {},
   "outputs": [],
   "source": []
  },
  {
   "cell_type": "markdown",
   "metadata": {},
   "source": [
    "### Создаем условие из массива clientId"
   ]
  },
  {
   "cell_type": "code",
   "execution_count": 17,
   "metadata": {},
   "outputs": [
    {
     "data": {
      "text/html": [
       "<div>\n",
       "<style scoped>\n",
       "    .dataframe tbody tr th:only-of-type {\n",
       "        vertical-align: middle;\n",
       "    }\n",
       "\n",
       "    .dataframe tbody tr th {\n",
       "        vertical-align: top;\n",
       "    }\n",
       "\n",
       "    .dataframe thead th {\n",
       "        text-align: right;\n",
       "    }\n",
       "</style>\n",
       "<table border=\"1\" class=\"dataframe\">\n",
       "  <thead>\n",
       "    <tr style=\"text-align: right;\">\n",
       "      <th></th>\n",
       "      <th>clientid</th>\n",
       "    </tr>\n",
       "  </thead>\n",
       "  <tbody>\n",
       "    <tr>\n",
       "      <th>0</th>\n",
       "      <td>1635183259603994884</td>\n",
       "    </tr>\n",
       "    <tr>\n",
       "      <th>1</th>\n",
       "      <td>1635670848276114856</td>\n",
       "    </tr>\n",
       "    <tr>\n",
       "      <th>2</th>\n",
       "      <td>1636062370638530867</td>\n",
       "    </tr>\n",
       "    <tr>\n",
       "      <th>3</th>\n",
       "      <td>163676853957067267</td>\n",
       "    </tr>\n",
       "    <tr>\n",
       "      <th>4</th>\n",
       "      <td>1638961661982897343</td>\n",
       "    </tr>\n",
       "  </tbody>\n",
       "</table>\n",
       "</div>"
      ],
      "text/plain": [
       "              clientid\n",
       "0  1635183259603994884\n",
       "1  1635670848276114856\n",
       "2  1636062370638530867\n",
       "3   163676853957067267\n",
       "4  1638961661982897343"
      ]
     },
     "execution_count": 17,
     "metadata": {},
     "output_type": "execute_result"
    },
    {
     "data": {
      "text/plain": [
       "(1152, 1)"
      ]
     },
     "execution_count": 17,
     "metadata": {},
     "output_type": "execute_result"
    }
   ],
   "source": [
    "file_name = \"csv/mobile_2.csv\" \n",
    "df = pd.read_csv(file_name)\n",
    "df.head()\n",
    "df.shape"
   ]
  },
  {
   "cell_type": "code",
   "execution_count": 77,
   "metadata": {},
   "outputs": [
    {
     "data": {
      "text/plain": [
       "100"
      ]
     },
     "execution_count": 77,
     "metadata": {},
     "output_type": "execute_result"
    },
    {
     "data": {
      "text/plain": [
       "'1635183259603994884,1635670848276114856,1636062370638530867,163676853957067267,1638961661982897343,1639383140478454322,16411185171016557127,1641375793879766591,1641383544291001492,1642001033657107255,164227067976281529,16424018641032314086,1642404528289704290,1643226839516253466,1643400424449465062,164420916790781202,1644928245945155011,16455837591047876072,164580251334529016,1646024402621012978,1646500946173387263,1646660462802604385,1647100180560696153,1647190015769537901,16472084331054026875,1647546426133562927,1647677037522505173,1647687945796367095,1647805568952256920,164807322975691257,1648114936170886667,1648135077457037442,1648138953517040253,1648209174615164115,1648221820319329413,1648232446654511881,1648295848145159721,16483566311041498106,1648461624258282963,1648617178804762302,1648630116298002036,16486819648618239,1648776658323456777,1648970908183712648,1648988450873033582,1649076939296858580,1649128623951938151,1649145988289711060,164917562029565144,1649190126473272939,16492533361055663951,1649254667511613741,164930724874084997,1649384582309691457,1649409637573923399,16494262819695579,16495770341012080457,1649586232810524026,1649587930476866807,1649698087956592933,1649711265754228607,1649823642965270337,1649826978575078835,1649853217780663687,16498570551021620308,16498587991056457505,1649866250395018172,1649871037323575377,1649915918295909656,1649925106834317838,1649941776484321800,1650066575164086491,1650092240749383523,1650109990509982267,1650111614916772793,16501466961059026664,1650170189466479423,1650262622150216350,1650274798284875948,16502955099957014,1650462305225859183,165047444122425994,1650499268342527590,1650567295948608139,1650688281595579325,1650740558485785042,165077642421939717,1650792381296190480,1650804274804862694,1650975903987466786,1650993051528412988,1650997133490654115,1651037979366148682,1651057957349275385,1651131865315502982,1651147734205013954,1651172690525287168,1651205731265717245,1651214410881574832,1651229938128686228'"
      ]
     },
     "execution_count": 77,
     "metadata": {},
     "output_type": "execute_result"
    }
   ],
   "source": [
    "clientid_list = df['clientid'].to_list()\n",
    "\n",
    "# len(clientid_list)\n",
    "clientid_list_100 = list(map(str, clientid_list[:100]))\n",
    "len(clientid_list_100)\n",
    "str_many_clientId = \",\".join(clientid_list_100)\n",
    "str_many_clientId"
   ]
  },
  {
   "cell_type": "markdown",
   "metadata": {},
   "source": [
    "# Создать сегмент (на базе короткого списка clientId - 100 элементов)"
   ]
  },
  {
   "cell_type": "markdown",
   "metadata": {},
   "source": [
    "**Внимание!** Опытным путем выяснил, что лимит - 100 записей"
   ]
  },
  {
   "cell_type": "code",
   "execution_count": 78,
   "metadata": {},
   "outputs": [
    {
     "data": {
      "text/plain": [
       "<Response [200]>"
      ]
     },
     "execution_count": 78,
     "metadata": {},
     "output_type": "execute_result"
    },
    {
     "data": {
      "text/plain": [
       "'{\"segment\":{\"segment_id\":1006408065,\"counter_id\":65071099,\"name\":\"test___segment_100_clientId_02\",\"expression\":\"ym:s:clientID=.(1635183259603994884,1635670848276114856,1636062370638530867,163676853957067267,1638961661982897343,1639383140478454322,16411185171016557127,1641375793879766591,1641383544291001492,1642001033657107255,164227067976281529,16424018641032314086,1642404528289704290,1643226839516253466,1643400424449465062,164420916790781202,1644928245945155011,16455837591047876072,164580251334529016,1646024402621012978,1646500946173387263,1646660462802604385,1647100180560696153,1647190015769537901,16472084331054026875,1647546426133562927,1647677037522505173,1647687945796367095,1647805568952256920,164807322975691257,1648114936170886667,1648135077457037442,1648138953517040253,1648209174615164115,1648221820319329413,1648232446654511881,1648295848145159721,16483566311041498106,1648461624258282963,1648617178804762302,1648630116298002036,16486819648618239,1648776658323456777,1648970908183712648,1648988450873033582,1649076939296858580,1649128623951938151,1649145988289711060,164917562029565144,1649190126473272939,16492533361055663951,1649254667511613741,164930724874084997,1649384582309691457,1649409637573923399,16494262819695579,16495770341012080457,1649586232810524026,1649587930476866807,1649698087956592933,1649711265754228607,1649823642965270337,1649826978575078835,1649853217780663687,16498570551021620308,16498587991056457505,1649866250395018172,1649871037323575377,1649915918295909656,1649925106834317838,1649941776484321800,1650066575164086491,1650092240749383523,1650109990509982267,1650111614916772793,16501466961059026664,1650170189466479423,1650262622150216350,1650274798284875948,16502955099957014,1650462305225859183,165047444122425994,1650499268342527590,1650567295948608139,1650688281595579325,1650740558485785042,165077642421939717,1650792381296190480,1650804274804862694,1650975903987466786,1650993051528412988,1650997133490654115,1651037979366148682,1651057957349275385,1651131865315502982,1651147734205013954,1651172690525287168,1651205731265717245,1651214410881574832,1651229938128686228)\",\"is_retargeting\":0,\"status\":\"active\",\"segment_source\":\"api\"}}'"
      ]
     },
     "execution_count": 78,
     "metadata": {},
     "output_type": "execute_result"
    }
   ],
   "source": [
    "# https://yandex.ru/dev/metrika/doc/api2/management/segments/createsegment.html\n",
    "# https://yandex.ru/dev/metrika/doc/api2/api_v1/segmentation.html\n",
    "\n",
    "URL = f\"https://api-metrika.yandex.net/management/v1/counter/{counterId}/apisegment/segments\"\n",
    "\n",
    "body = {}\n",
    "body['segment'] = {}\n",
    "body['segment']['name'] = \"test___segment_100_clientId_02\"\n",
    "# Задать условие на один фильтр с массивом ClientID можно так: ym:s:clientID=.(11111, 2222, ...)\n",
    "# Лимит: количество уникальных группировок и метрик — до 10, \n",
    "# количество отдельных фильтров — до 20, \n",
    "# длина строки в фильтре — до 10 000 символов\n",
    "body['segment']['expression'] = f\"ym:s:clientID=.({str_many_clientId})\"\n",
    "# \"ym:s:clientID=='1635183259603990000'\"\n",
    "body['segment']['segment_source'] = \"api\"\n",
    "\n",
    "# конвертируем словарь в JSON-формат и перекодируем в UTF-8\n",
    "body = json.dumps(body, ensure_ascii=False).encode('utf8')\n",
    "\n",
    "req = requests.post(URL, body, headers=headers)\n",
    "req\n",
    "req.text"
   ]
  },
  {
   "cell_type": "code",
   "execution_count": null,
   "metadata": {},
   "outputs": [],
   "source": []
  },
  {
   "cell_type": "code",
   "execution_count": null,
   "metadata": {},
   "outputs": [],
   "source": []
  },
  {
   "cell_type": "code",
   "execution_count": null,
   "metadata": {},
   "outputs": [],
   "source": []
  },
  {
   "cell_type": "markdown",
   "metadata": {},
   "source": [
    "# ======== Передача параметров посетителей ========"
   ]
  },
  {
   "cell_type": "markdown",
   "metadata": {},
   "source": [
    "# Список загрузок параметров посетителей"
   ]
  },
  {
   "cell_type": "code",
   "execution_count": 80,
   "metadata": {
    "scrolled": false
   },
   "outputs": [
    {
     "data": {
      "text/plain": [
       "<Response [200]>"
      ]
     },
     "execution_count": 80,
     "metadata": {},
     "output_type": "execute_result"
    },
    {
     "data": {
      "text/plain": [
       "{'uploadings': [{'id': 8012726,\n",
       "   'create_time': '2022-07-20T05:07:37.000Z',\n",
       "   'content_id_type': 'client_id',\n",
       "   'action': 'update',\n",
       "   'status': 'processed',\n",
       "   'line_quantity': 1152,\n",
       "   'linked_quantity': 25},\n",
       "  {'id': 8012716,\n",
       "   'create_time': '2022-07-20T04:53:02.000Z',\n",
       "   'content_id_type': 'client_id',\n",
       "   'action': 'update',\n",
       "   'status': 'processed',\n",
       "   'line_quantity': 1152,\n",
       "   'linked_quantity': 0},\n",
       "  {'id': 8003498,\n",
       "   'create_time': '2022-07-17T17:41:28.000Z',\n",
       "   'content_id_type': 'client_id',\n",
       "   'action': 'update',\n",
       "   'status': 'processed',\n",
       "   'line_quantity': 3,\n",
       "   'linked_quantity': 1},\n",
       "  {'id': 8003430,\n",
       "   'create_time': '2022-07-17T17:18:19.000Z',\n",
       "   'content_id_type': 'client_id',\n",
       "   'action': 'update',\n",
       "   'status': 'processing_failed',\n",
       "   'line_quantity': 5,\n",
       "   'linked_quantity': 0}]}"
      ]
     },
     "execution_count": 80,
     "metadata": {},
     "output_type": "execute_result"
    }
   ],
   "source": [
    "# https://yandex.ru/dev/metrika/doc/api2/management/userparams/findall.html\n",
    "\n",
    "URL = f\"https://api-metrika.yandex.net/management/v1/counter/{counterId}/user_params/uploadings\"\n",
    "\n",
    "req = requests.get(URL, headers=headers)\n",
    "req\n",
    "req.json()"
   ]
  },
  {
   "cell_type": "code",
   "execution_count": null,
   "metadata": {},
   "outputs": [],
   "source": []
  },
  {
   "cell_type": "markdown",
   "metadata": {},
   "source": [
    "# Выполняет загрузку параметров посетителей из CSV-файла"
   ]
  },
  {
   "cell_type": "code",
   "execution_count": 56,
   "metadata": {},
   "outputs": [],
   "source": [
    "# Создадим файл-источник\n",
    "# df = pd.read_csv(\"csv/1.csv\")\n",
    "# df['key'] = \"test\"\n",
    "# df['value'] = 1\n",
    "# df.to_csv(\"csv/mobile_2_plus.csv\", index=False)"
   ]
  },
  {
   "cell_type": "code",
   "execution_count": 57,
   "metadata": {},
   "outputs": [
    {
     "data": {
      "text/plain": [
       "<Response [200]>"
      ]
     },
     "execution_count": 57,
     "metadata": {},
     "output_type": "execute_result"
    },
    {
     "data": {
      "text/plain": [
       "'{\"uploading\":{\"id\":8012726,\"action\":\"update\",\"comment\":\"file\",\"line_quantity\":1152}}'"
      ]
     },
     "execution_count": 57,
     "metadata": {},
     "output_type": "execute_result"
    }
   ],
   "source": [
    "# https://yandex.ru/dev/metrika/doc/api2/management/userparams/upload.html\n",
    "file_name = \"csv/mobile_2_plus.csv\"\n",
    "\n",
    "# action - тип действия, которое вы хотите выполнить.\n",
    "# Допустимые значения:\n",
    "# delete_keys — удаление параметров\n",
    "# update — добавление параметров\n",
    "URL = f\"https://api-metrika.yandex.net/management/v1/counter/{counterId}/user_params/uploadings/upload?action=update\"\n",
    "headers = {\"Authorization\": f\"OAuth {token_YM}\"}\n",
    "file = open(file_name,\"r\").read()\n",
    "body = {'file': file} \n",
    "\n",
    "req = requests.post(URL, files=body, headers=headers)\n",
    "req\n",
    "req.text"
   ]
  },
  {
   "cell_type": "code",
   "execution_count": 10,
   "metadata": {},
   "outputs": [
    {
     "data": {
      "text/plain": [
       "'clientid,key,value\\n29864873,gender,F\\n29864873,discount-card,1\\n29864873,offline-purchase,5\\n93657832,gender,М\\n93657832,offline-purchase,3'"
      ]
     },
     "execution_count": 10,
     "metadata": {},
     "output_type": "execute_result"
    }
   ],
   "source": [
    "file"
   ]
  },
  {
   "cell_type": "code",
   "execution_count": null,
   "metadata": {},
   "outputs": [],
   "source": []
  },
  {
   "cell_type": "markdown",
   "metadata": {},
   "source": [
    "# Возвращает информацию об указанной загрузке параметров посетителей"
   ]
  },
  {
   "cell_type": "code",
   "execution_count": 52,
   "metadata": {},
   "outputs": [
    {
     "data": {
      "text/plain": [
       "<Response [200]>"
      ]
     },
     "execution_count": 52,
     "metadata": {},
     "output_type": "execute_result"
    },
    {
     "data": {
      "text/plain": [
       "{'uploading': {'id': 8003430,\n",
       "  'create_time': '2022-07-17T17:18:19.000Z',\n",
       "  'content_id_type': 'client_id',\n",
       "  'action': 'update',\n",
       "  'status': 'processing_failed',\n",
       "  'line_quantity': 5,\n",
       "  'linked_quantity': 0}}"
      ]
     },
     "execution_count": 52,
     "metadata": {},
     "output_type": "execute_result"
    }
   ],
   "source": [
    "# https://yandex.ru/dev/metrika/doc/api2/management/userparams/findbyid.html\n",
    "uploadingId = 8003430\n",
    "\n",
    "URL = f\"https://api-metrika.yandex.net/management/v1/counter/{counterId}/user_params/uploading/{uploadingId}\"\n",
    "\n",
    "req = requests.get(URL, headers=headers)\n",
    "req\n",
    "req.json()"
   ]
  },
  {
   "cell_type": "code",
   "execution_count": null,
   "metadata": {},
   "outputs": [],
   "source": []
  },
  {
   "cell_type": "markdown",
   "metadata": {},
   "source": [
    "# Подтверждение загрузки параметров"
   ]
  },
  {
   "cell_type": "code",
   "execution_count": 58,
   "metadata": {},
   "outputs": [
    {
     "data": {
      "text/plain": [
       "<Response [200]>"
      ]
     },
     "execution_count": 58,
     "metadata": {},
     "output_type": "execute_result"
    },
    {
     "data": {
      "text/plain": [
       "'{\"uploading\":{\"id\":8012726,\"create_time\":\"2022-07-20T05:07:37.000Z\",\"content_id_type\":\"client_id\",\"action\":\"update\",\"status\":\"is_processed\",\"line_quantity\":1152,\"linked_quantity\":0}}'"
      ]
     },
     "execution_count": 58,
     "metadata": {},
     "output_type": "execute_result"
    }
   ],
   "source": [
    "# https://yandex.ru/dev/metrika/doc/api2/management/userparams/confirm.html\n",
    "\n",
    "# Идентификатор загрузки параметров посетителей, которую вы хотите подтвердить\n",
    "uploadingId = 8012726\n",
    "\n",
    "URL = f\"https://api-metrika.yandex.net/management/v1/counter/{counterId}/user_params/uploading/{uploadingId}/confirm\"\n",
    "\n",
    "body = {}\n",
    "body['uploading'] = {}\n",
    "\n",
    "# Тип идентификаторов посетителей. Возможные значения:\n",
    "# user_id — идентификатор посетителя сайта, назначенный владельцем сайта.\n",
    "# client_id — идентификатор посетителя сайта, назначенный Яндекс.Метрикой.\n",
    "body['uploading']['content_id_type'] = 'client_id' \n",
    "\n",
    "# конвертируем словарь в JSON-формат и перекодируем в UTF-8\n",
    "body = json.dumps(body, ensure_ascii=False).encode('utf8')\n",
    "\n",
    "req = requests.post(URL, body, headers=headers)\n",
    "req\n",
    "req.text"
   ]
  },
  {
   "cell_type": "code",
   "execution_count": null,
   "metadata": {},
   "outputs": [],
   "source": []
  },
  {
   "cell_type": "markdown",
   "metadata": {},
   "source": [
    "# Создаём сегмент (на базе загрузки параметров пользователя)"
   ]
  },
  {
   "cell_type": "code",
   "execution_count": 64,
   "metadata": {},
   "outputs": [
    {
     "data": {
      "text/plain": [
       "<Response [200]>"
      ]
     },
     "execution_count": 64,
     "metadata": {},
     "output_type": "execute_result"
    },
    {
     "data": {
      "text/plain": [
       "{'segment': {'segment_id': 1006407935,\n",
       "  'counter_id': 65071099,\n",
       "  'name': 'test__segment_param_user_03',\n",
       "  'expression': \"ym:up:paramsLevel1=='test' and ym:up:paramsLevel2=='1'\",\n",
       "  'is_retargeting': 0,\n",
       "  'status': 'active',\n",
       "  'segment_source': 'api'}}"
      ]
     },
     "execution_count": 64,
     "metadata": {},
     "output_type": "execute_result"
    }
   ],
   "source": [
    "# https://yandex.ru/dev/metrika/doc/api2/management/segments/createsegment.html\n",
    "# https://yandex.ru/dev/metrika/doc/api2/api_v1/segmentation.html\n",
    "\n",
    "URL = f\"https://api-metrika.yandex.net/management/v1/counter/{counterId}/apisegment/segments\"\n",
    "\n",
    "body = {}\n",
    "body['segment'] = {}\n",
    "body['segment']['name'] = \"test__segment_param_user_03\"\n",
    "\n",
    "# body['segment']['expression'] = \"ym:s:regionCityName=='Тула'\"\n",
    "# Задать параметр посетителей со значением child=1 нужно вот так:\n",
    "# ym:up:paramsLevel1=='value1' and ym:up:paramsLevel2=='value2', \n",
    "# где value1 - параметр первого уровня (child), value2 - параметр второго уровня ('1').\n",
    "body['segment']['expression'] = \"ym:up:paramsLevel1=='test' and ym:up:paramsLevel2=='1'\"\n",
    "body['segment']['segment_source'] = \"api\"\n",
    "\n",
    "# конвертируем словарь в JSON-формат и перекодируем в UTF-8\n",
    "body = json.dumps(body, ensure_ascii=False).encode('utf8')\n",
    "\n",
    "req = requests.post(URL, body, headers=headers)\n",
    "req\n",
    "req.json()"
   ]
  },
  {
   "cell_type": "code",
   "execution_count": null,
   "metadata": {},
   "outputs": [],
   "source": []
  },
  {
   "cell_type": "markdown",
   "metadata": {},
   "source": [
    "# Изменение загрузки параметров (удаление)"
   ]
  },
  {
   "cell_type": "code",
   "execution_count": 40,
   "metadata": {},
   "outputs": [
    {
     "data": {
      "text/plain": [
       "<Response [200]>"
      ]
     },
     "execution_count": 40,
     "metadata": {},
     "output_type": "execute_result"
    },
    {
     "data": {
      "text/plain": [
       "{'uploading': {'id': 8003498,\n",
       "  'create_time': '2022-07-17T17:41:28.000Z',\n",
       "  'content_id_type': 'client_id',\n",
       "  'action': 'update',\n",
       "  'status': 'processed',\n",
       "  'line_quantity': 3,\n",
       "  'linked_quantity': 1}}"
      ]
     },
     "execution_count": 40,
     "metadata": {},
     "output_type": "execute_result"
    }
   ],
   "source": [
    "# https://yandex.ru/dev/metrika/doc/api2/management/userparams/update.html\n",
    "# https://yandex.ru/dev/metrika/doc/api2/management/userparams/class_userparamsuploading.html\n",
    "\n",
    "uploadingId = 8003498\n",
    "\n",
    "URL = f\"https://api-metrika.yandex.net/management/v1/counter/{counterId}/user_params/uploading/{uploadingId}\"\n",
    "\n",
    "body = {}\n",
    "body['uploading'] = {}\n",
    "# id-загрузки\n",
    "body['uploading']['id'] = 8003498\n",
    "body['uploading']['content_id_type'] = 'client_id' \n",
    "# Действие, которое необходимо выполнить.\n",
    "# Возможные значения\n",
    "# delete_keys — удаление параметров.\n",
    "# update — добавление параметров.\n",
    "body['uploading']['action'] = 'delete_keys'\n",
    "\n",
    "# конвертируем словарь в JSON-формат и перекодируем в UTF-8\n",
    "body = json.dumps(body, ensure_ascii=False).encode('utf8')\n",
    "\n",
    "req = requests.put(URL, body, headers=headers)\n",
    "req\n",
    "req.json()"
   ]
  }
 ],
 "metadata": {
  "kernelspec": {
   "display_name": "Python 3 (ipykernel)",
   "language": "python",
   "name": "python3"
  },
  "language_info": {
   "codemirror_mode": {
    "name": "ipython",
    "version": 3
   },
   "file_extension": ".py",
   "mimetype": "text/x-python",
   "name": "python",
   "nbconvert_exporter": "python",
   "pygments_lexer": "ipython3",
   "version": "3.9.7"
  }
 },
 "nbformat": 4,
 "nbformat_minor": 4
}
